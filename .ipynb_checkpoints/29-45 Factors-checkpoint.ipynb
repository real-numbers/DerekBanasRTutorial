{
 "cells": [
  {
   "cell_type": "markdown",
   "metadata": {},
   "source": [
    "### Factors in R"
   ]
  },
  {
   "cell_type": "markdown",
   "metadata": {},
   "source": [
    "Use factor(varname) to create a factor.  The variable can be a vector of string or numeric values.  Factors can be used for grouping within analyses."
   ]
  },
  {
   "cell_type": "code",
   "execution_count": 1,
   "metadata": {},
   "outputs": [
    {
     "data": {
      "text/html": [
       "TRUE"
      ],
      "text/latex": [
       "TRUE"
      ],
      "text/markdown": [
       "TRUE"
      ],
      "text/plain": [
       "[1] TRUE"
      ]
     },
     "metadata": {},
     "output_type": "display_data"
    }
   ],
   "source": [
    "direction <- c(\"Up\", \"Left\", \"Right\",\"Down\",\"Left\", \"Up\")\n",
    "factorDir <- factor(direction)\n",
    "is.factor(factorDir)"
   ]
  },
  {
   "cell_type": "markdown",
   "metadata": {},
   "source": [
    "A factor variable contains unique levels even if defined from a non-unique list."
   ]
  },
  {
   "cell_type": "code",
   "execution_count": 2,
   "metadata": {},
   "outputs": [
    {
     "data": {
      "text/html": [
       "<ol class=list-inline>\n",
       "\t<li>'Down'</li>\n",
       "\t<li>'Left'</li>\n",
       "\t<li>'Right'</li>\n",
       "\t<li>'Up'</li>\n",
       "</ol>\n"
      ],
      "text/latex": [
       "\\begin{enumerate*}\n",
       "\\item 'Down'\n",
       "\\item 'Left'\n",
       "\\item 'Right'\n",
       "\\item 'Up'\n",
       "\\end{enumerate*}\n"
      ],
      "text/markdown": [
       "1. 'Down'\n",
       "2. 'Left'\n",
       "3. 'Right'\n",
       "4. 'Up'\n",
       "\n",
       "\n"
      ],
      "text/plain": [
       "[1] \"Down\"  \"Left\"  \"Right\" \"Up\"   "
      ]
     },
     "metadata": {},
     "output_type": "display_data"
    }
   ],
   "source": [
    "levels(factorDir)  # Note that default order is alphabetical"
   ]
  },
  {
   "cell_type": "markdown",
   "metadata": {},
   "source": [
    "The factor() operator also lets you control the order in which factors will be displayed."
   ]
  },
  {
   "cell_type": "code",
   "execution_count": 5,
   "metadata": {},
   "outputs": [
    {
     "data": {
      "text/html": [
       "<ol class=list-inline>\n",
       "\t<li>Tue</li>\n",
       "\t<li>Thu</li>\n",
       "\t<li>Mon</li>\n",
       "</ol>\n"
      ],
      "text/latex": [
       "\\begin{enumerate*}\n",
       "\\item Tue\n",
       "\\item Thu\n",
       "\\item Mon\n",
       "\\end{enumerate*}\n"
      ],
      "text/markdown": [
       "1. Tue\n",
       "2. Thu\n",
       "3. Mon\n",
       "\n",
       "\n"
      ],
      "text/plain": [
       "[1] Tue Thu Mon\n",
       "Levels: Mon < Tue < Wed < Thu < Fri < Sat < Sun"
      ]
     },
     "metadata": {},
     "output_type": "display_data"
    },
    {
     "data": {
      "text/html": [
       "<ol class=list-inline>\n",
       "\t<li>'Mon'</li>\n",
       "\t<li>'Tue'</li>\n",
       "\t<li>'Wed'</li>\n",
       "\t<li>'Thu'</li>\n",
       "\t<li>'Fri'</li>\n",
       "\t<li>'Sat'</li>\n",
       "\t<li>'Sun'</li>\n",
       "</ol>\n"
      ],
      "text/latex": [
       "\\begin{enumerate*}\n",
       "\\item 'Mon'\n",
       "\\item 'Tue'\n",
       "\\item 'Wed'\n",
       "\\item 'Thu'\n",
       "\\item 'Fri'\n",
       "\\item 'Sat'\n",
       "\\item 'Sun'\n",
       "\\end{enumerate*}\n"
      ],
      "text/markdown": [
       "1. 'Mon'\n",
       "2. 'Tue'\n",
       "3. 'Wed'\n",
       "4. 'Thu'\n",
       "5. 'Fri'\n",
       "6. 'Sat'\n",
       "7. 'Sun'\n",
       "\n",
       "\n"
      ],
      "text/plain": [
       "[1] \"Mon\" \"Tue\" \"Wed\" \"Thu\" \"Fri\" \"Sat\" \"Sun\""
      ]
     },
     "metadata": {},
     "output_type": "display_data"
    }
   ],
   "source": [
    "dow <- c(\"Mon\", \"Tue\",\"Wed\",\"Thu\",\"Fri\",\"Sat\",\"Sun\")\n",
    "workDays <- c(\"Tue\",\"Thu\",\"Mon\")\n",
    "wdFact = factor(x=workDays, levels=dow,ordered=T)\n",
    "wdFact\n",
    "levels(wdFact)"
   ]
  },
  {
   "cell_type": "markdown",
   "metadata": {},
   "source": [
    "###  Using Factors for Grouping"
   ]
  },
  {
   "cell_type": "code",
   "execution_count": 14,
   "metadata": {},
   "outputs": [
    {
     "data": {
      "text/html": [
       "<ol class=list-inline>\n",
       "\t<li>Up</li>\n",
       "\t<li>Left</li>\n",
       "\t<li>Right</li>\n",
       "\t<li>Down</li>\n",
       "\t<li>Left</li>\n",
       "\t<li>Up</li>\n",
       "</ol>\n"
      ],
      "text/latex": [
       "\\begin{enumerate*}\n",
       "\\item Up\n",
       "\\item Left\n",
       "\\item Right\n",
       "\\item Down\n",
       "\\item Left\n",
       "\\item Up\n",
       "\\end{enumerate*}\n"
      ],
      "text/markdown": [
       "1. Up\n",
       "2. Left\n",
       "3. Right\n",
       "4. Down\n",
       "5. Left\n",
       "6. Up\n",
       "\n",
       "\n"
      ],
      "text/plain": [
       "[1] Up    Left  Right Down  Left  Up   \n",
       "Levels: Down Left Right Up"
      ]
     },
     "metadata": {},
     "output_type": "display_data"
    },
    {
     "data": {
      "text/html": [
       "<ol class=list-inline>\n",
       "\t<li>4</li>\n",
       "\t<li>2</li>\n",
       "\t<li>6</li>\n",
       "\t<li>7</li>\n",
       "\t<li>4</li>\n",
       "\t<li>3</li>\n",
       "</ol>\n"
      ],
      "text/latex": [
       "\\begin{enumerate*}\n",
       "\\item 4\n",
       "\\item 2\n",
       "\\item 6\n",
       "\\item 7\n",
       "\\item 4\n",
       "\\item 3\n",
       "\\end{enumerate*}\n"
      ],
      "text/markdown": [
       "1. 4\n",
       "2. 2\n",
       "3. 6\n",
       "4. 7\n",
       "5. 4\n",
       "6. 3\n",
       "\n",
       "\n"
      ],
      "text/plain": [
       "[1] 4 2 6 7 4 3"
      ]
     },
     "metadata": {},
     "output_type": "display_data"
    },
    {
     "data": {
      "text/html": [
       "<table>\n",
       "<thead><tr><th scope=col>factorDir</th><th scope=col>movesTaken</th></tr></thead>\n",
       "<tbody>\n",
       "\t<tr><td>Down </td><td>7    </td></tr>\n",
       "\t<tr><td>Left </td><td>6    </td></tr>\n",
       "\t<tr><td>Right</td><td>6    </td></tr>\n",
       "\t<tr><td>Up   </td><td>7    </td></tr>\n",
       "</tbody>\n",
       "</table>\n"
      ],
      "text/latex": [
       "\\begin{tabular}{r|ll}\n",
       " factorDir & movesTaken\\\\\n",
       "\\hline\n",
       "\t Down  & 7    \\\\\n",
       "\t Left  & 6    \\\\\n",
       "\t Right & 6    \\\\\n",
       "\t Up    & 7    \\\\\n",
       "\\end{tabular}\n"
      ],
      "text/markdown": [
       "\n",
       "factorDir | movesTaken | \n",
       "|---|---|---|---|\n",
       "| Down  | 7     | \n",
       "| Left  | 6     | \n",
       "| Right | 6     | \n",
       "| Up    | 7     | \n",
       "\n",
       "\n"
      ],
      "text/plain": [
       "  factorDir movesTaken\n",
       "1 Down      7         \n",
       "2 Left      6         \n",
       "3 Right     6         \n",
       "4 Up        7         "
      ]
     },
     "metadata": {},
     "output_type": "display_data"
    }
   ],
   "source": [
    "movesTaken <- c(4,2,6,7,4,3)\n",
    "factorDir\n",
    "movesTaken\n",
    "aggregate(movesTaken~factorDir, FUN=sum)  # Add up moves in each direction"
   ]
  },
  {
   "cell_type": "code",
   "execution_count": 19,
   "metadata": {},
   "outputs": [
    {
     "data": {
      "text/html": [
       "<table>\n",
       "<thead><tr><th scope=col>mywdFact</th><th scope=col>myHours</th></tr></thead>\n",
       "<tbody>\n",
       "\t<tr><td>Mon</td><td>16 </td></tr>\n",
       "\t<tr><td>Tue</td><td>17 </td></tr>\n",
       "\t<tr><td>Wed</td><td>15 </td></tr>\n",
       "\t<tr><td>Thu</td><td> 9 </td></tr>\n",
       "\t<tr><td>Fri</td><td> 6 </td></tr>\n",
       "</tbody>\n",
       "</table>\n"
      ],
      "text/latex": [
       "\\begin{tabular}{r|ll}\n",
       " mywdFact & myHours\\\\\n",
       "\\hline\n",
       "\t Mon & 16 \\\\\n",
       "\t Tue & 17 \\\\\n",
       "\t Wed & 15 \\\\\n",
       "\t Thu &  9 \\\\\n",
       "\t Fri &  6 \\\\\n",
       "\\end{tabular}\n"
      ],
      "text/markdown": [
       "\n",
       "mywdFact | myHours | \n",
       "|---|---|---|---|---|\n",
       "| Mon | 16  | \n",
       "| Tue | 17  | \n",
       "| Wed | 15  | \n",
       "| Thu |  9  | \n",
       "| Fri |  6  | \n",
       "\n",
       "\n"
      ],
      "text/plain": [
       "  mywdFact myHours\n",
       "1 Mon      16     \n",
       "2 Tue      17     \n",
       "3 Wed      15     \n",
       "4 Thu       9     \n",
       "5 Fri       6     "
      ]
     },
     "metadata": {},
     "output_type": "display_data"
    }
   ],
   "source": [
    "myWorkDays <- c(\"Mon\", \"Tue\",\"Wed\",\"Thu\",\"Fri\",\"Mon\", \"Tue\",\"Wed\",\"Thu\",\"Fri\")\n",
    "myHours <- c(8,9,7,5,3,8,8,8,4,3)\n",
    "mywdFact <- factor(myWorkDays, dow, ordered=T)\n",
    "aggregate(myHours~mywdFact, FUN=sum)"
   ]
  },
  {
   "cell_type": "code",
   "execution_count": 20,
   "metadata": {},
   "outputs": [
    {
     "data": {
      "text/plain": [
       "mywdFact: Mon\n",
       "[1] 16\n",
       "------------------------------------------------------------ \n",
       "mywdFact: Tue\n",
       "[1] 17\n",
       "------------------------------------------------------------ \n",
       "mywdFact: Wed\n",
       "[1] 15\n",
       "------------------------------------------------------------ \n",
       "mywdFact: Thu\n",
       "[1] 9\n",
       "------------------------------------------------------------ \n",
       "mywdFact: Fri\n",
       "[1] 6\n",
       "------------------------------------------------------------ \n",
       "mywdFact: Sat\n",
       "[1] NA\n",
       "------------------------------------------------------------ \n",
       "mywdFact: Sun\n",
       "[1] NA"
      ]
     },
     "metadata": {},
     "output_type": "display_data"
    }
   ],
   "source": [
    "by(myHours,mywdFact,sum)  # another way"
   ]
  },
  {
   "cell_type": "code",
   "execution_count": 33,
   "metadata": {},
   "outputs": [
    {
     "data": {
      "text/html": [
       "<dl class=dl-horizontal>\n",
       "\t<dt>Mon</dt>\n",
       "\t\t<dd>16</dd>\n",
       "\t<dt>Tue</dt>\n",
       "\t\t<dd>17</dd>\n",
       "\t<dt>Wed</dt>\n",
       "\t\t<dd>15</dd>\n",
       "\t<dt>Thu</dt>\n",
       "\t\t<dd>9</dd>\n",
       "\t<dt>Fri</dt>\n",
       "\t\t<dd>6</dd>\n",
       "\t<dt>Sat</dt>\n",
       "\t\t<dd>&lt;NA&gt;</dd>\n",
       "\t<dt>Sun</dt>\n",
       "\t\t<dd>&lt;NA&gt;</dd>\n",
       "</dl>\n"
      ],
      "text/plain": [
       "Mon Tue Wed Thu Fri Sat Sun \n",
       " 16  17  15   9   6  NA  NA "
      ]
     },
     "metadata": {},
     "output_type": "display_data"
    }
   ],
   "source": [
    "tapply(myHours,mywdFact,FUN=sum)"
   ]
  },
  {
   "cell_type": "code",
   "execution_count": null,
   "metadata": {},
   "outputs": [],
   "source": []
  }
 ],
 "metadata": {
  "kernelspec": {
   "display_name": "R",
   "language": "R",
   "name": "ir"
  },
  "language_info": {
   "codemirror_mode": "r",
   "file_extension": ".r",
   "mimetype": "text/x-r-source",
   "name": "R",
   "pygments_lexer": "r",
   "version": "3.3.3"
  }
 },
 "nbformat": 4,
 "nbformat_minor": 2
}

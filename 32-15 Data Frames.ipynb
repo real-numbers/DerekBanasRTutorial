{
 "cells": [
  {
   "cell_type": "markdown",
   "metadata": {},
   "source": [
    "### Data Frames"
   ]
  },
  {
   "cell_type": "markdown",
   "metadata": {},
   "source": [
    "A dataframe is a named set of data arranged in rows(aka records or observations) and columns(aka variables or attributes).  Column lengths in a data frame are all equal."
   ]
  },
  {
   "cell_type": "code",
   "execution_count": 3,
   "metadata": {},
   "outputs": [
    {
     "data": {
      "text/html": [
       "<table>\n",
       "<thead><tr><th scope=col>name</th><th scope=col>age</th></tr></thead>\n",
       "<tbody>\n",
       "\t<tr><td>Tom  </td><td>43   </td></tr>\n",
       "\t<tr><td>Sally</td><td>28   </td></tr>\n",
       "\t<tr><td>Sue  </td><td>35   </td></tr>\n",
       "</tbody>\n",
       "</table>\n"
      ],
      "text/latex": [
       "\\begin{tabular}{r|ll}\n",
       " name & age\\\\\n",
       "\\hline\n",
       "\t Tom   & 43   \\\\\n",
       "\t Sally & 28   \\\\\n",
       "\t Sue   & 35   \\\\\n",
       "\\end{tabular}\n"
      ],
      "text/markdown": [
       "\n",
       "name | age | \n",
       "|---|---|---|\n",
       "| Tom   | 43    | \n",
       "| Sally | 28    | \n",
       "| Sue   | 35    | \n",
       "\n",
       "\n"
      ],
      "text/plain": [
       "  name  age\n",
       "1 Tom   43 \n",
       "2 Sally 28 \n",
       "3 Sue   35 "
      ]
     },
     "metadata": {},
     "output_type": "display_data"
    },
    {
     "data": {
      "text/html": [
       "<ol class=list-inline>\n",
       "\t<li>'Tom'</li>\n",
       "\t<li>'Sally'</li>\n",
       "\t<li>'Sue'</li>\n",
       "</ol>\n"
      ],
      "text/latex": [
       "\\begin{enumerate*}\n",
       "\\item 'Tom'\n",
       "\\item 'Sally'\n",
       "\\item 'Sue'\n",
       "\\end{enumerate*}\n"
      ],
      "text/markdown": [
       "1. 'Tom'\n",
       "2. 'Sally'\n",
       "3. 'Sue'\n",
       "\n",
       "\n"
      ],
      "text/plain": [
       "[1] \"Tom\"   \"Sally\" \"Sue\"  "
      ]
     },
     "metadata": {},
     "output_type": "display_data"
    },
    {
     "data": {
      "text/html": [
       "'data.frame'"
      ],
      "text/latex": [
       "'data.frame'"
      ],
      "text/markdown": [
       "'data.frame'"
      ],
      "text/plain": [
       "[1] \"data.frame\""
      ]
     },
     "metadata": {},
     "output_type": "display_data"
    },
    {
     "data": {
      "text/html": [
       "'numeric'"
      ],
      "text/latex": [
       "'numeric'"
      ],
      "text/markdown": [
       "'numeric'"
      ],
      "text/plain": [
       "[1] \"numeric\""
      ]
     },
     "metadata": {},
     "output_type": "display_data"
    }
   ],
   "source": [
    "custData <- data.frame(name=c(\"Tom\",\"Sally\",\"Sue\"),\n",
    "                     age=c(43,28,35),\n",
    "                     stringsAsFactors=F\n",
    "                     )\n",
    "custData\n",
    "custData$name\n",
    "class(custData)\n",
    "class(custData$age)"
   ]
  },
  {
   "cell_type": "code",
   "execution_count": 4,
   "metadata": {},
   "outputs": [
    {
     "data": {
      "text/html": [
       "'Tom'"
      ],
      "text/latex": [
       "'Tom'"
      ],
      "text/markdown": [
       "'Tom'"
      ],
      "text/plain": [
       "[1] \"Tom\""
      ]
     },
     "metadata": {},
     "output_type": "display_data"
    },
    {
     "data": {
      "text/html": [
       "43"
      ],
      "text/latex": [
       "43"
      ],
      "text/markdown": [
       "43"
      ],
      "text/plain": [
       "[1] 43"
      ]
     },
     "metadata": {},
     "output_type": "display_data"
    },
    {
     "data": {
      "text/html": [
       "<ol class=list-inline>\n",
       "\t<li>43</li>\n",
       "\t<li>28</li>\n",
       "\t<li>35</li>\n",
       "</ol>\n"
      ],
      "text/latex": [
       "\\begin{enumerate*}\n",
       "\\item 43\n",
       "\\item 28\n",
       "\\item 35\n",
       "\\end{enumerate*}\n"
      ],
      "text/markdown": [
       "1. 43\n",
       "2. 28\n",
       "3. 35\n",
       "\n",
       "\n"
      ],
      "text/plain": [
       "[1] 43 28 35"
      ]
     },
     "metadata": {},
     "output_type": "display_data"
    },
    {
     "ename": "ERROR",
     "evalue": "Error in `[.data.frame`(custData, 1, 2:3): undefined columns selected\n",
     "output_type": "error",
     "traceback": [
      "Error in `[.data.frame`(custData, 1, 2:3): undefined columns selected\nTraceback:\n",
      "1. custData[1, 2:3]",
      "2. `[.data.frame`(custData, 1, 2:3)",
      "3. stop(\"undefined columns selected\")"
     ]
    }
   ],
   "source": [
    "custData$name[custData$age>40] # Select from one col based on vals in another\n",
    "custData[1,2]  # row1,col2 item\n",
    "custData[,2]   # entire second column\n",
    "custData[1,2:3]  # error because there is no third column"
   ]
  },
  {
   "cell_type": "code",
   "execution_count": 12,
   "metadata": {},
   "outputs": [
    {
     "data": {
      "text/html": [
       "<ol class=list-inline>\n",
       "\t<li>3</li>\n",
       "\t<li>2</li>\n",
       "</ol>\n"
      ],
      "text/latex": [
       "\\begin{enumerate*}\n",
       "\\item 3\n",
       "\\item 2\n",
       "\\end{enumerate*}\n"
      ],
      "text/markdown": [
       "1. 3\n",
       "2. 2\n",
       "\n",
       "\n"
      ],
      "text/plain": [
       "[1] 3 2"
      ]
     },
     "metadata": {},
     "output_type": "display_data"
    }
   ],
   "source": [
    "dim(custData)"
   ]
  },
  {
   "cell_type": "markdown",
   "metadata": {},
   "source": [
    "Use rbind to add a new row, cbind to add a new column.  Lengths and types must agree."
   ]
  },
  {
   "cell_type": "code",
   "execution_count": 13,
   "metadata": {},
   "outputs": [
    {
     "data": {
      "text/html": [
       "<table>\n",
       "<thead><tr><th scope=col>name</th><th scope=col>age</th></tr></thead>\n",
       "<tbody>\n",
       "\t<tr><td>Tom  </td><td>43   </td></tr>\n",
       "\t<tr><td>Sally</td><td>28   </td></tr>\n",
       "\t<tr><td>Sue  </td><td>35   </td></tr>\n",
       "\t<tr><td>Mark </td><td>33   </td></tr>\n",
       "</tbody>\n",
       "</table>\n"
      ],
      "text/latex": [
       "\\begin{tabular}{r|ll}\n",
       " name & age\\\\\n",
       "\\hline\n",
       "\t Tom   & 43   \\\\\n",
       "\t Sally & 28   \\\\\n",
       "\t Sue   & 35   \\\\\n",
       "\t Mark  & 33   \\\\\n",
       "\\end{tabular}\n"
      ],
      "text/markdown": [
       "\n",
       "name | age | \n",
       "|---|---|---|---|\n",
       "| Tom   | 43    | \n",
       "| Sally | 28    | \n",
       "| Sue   | 35    | \n",
       "| Mark  | 33    | \n",
       "\n",
       "\n"
      ],
      "text/plain": [
       "  name  age\n",
       "1 Tom   43 \n",
       "2 Sally 28 \n",
       "3 Sue   35 \n",
       "4 Mark  33 "
      ]
     },
     "metadata": {},
     "output_type": "display_data"
    }
   ],
   "source": [
    "newrec <- data.frame(name=\"Mark\",age=33)\n",
    "custData <- rbind(custData,newrec)\n",
    "custData"
   ]
  },
  {
   "cell_type": "code",
   "execution_count": 14,
   "metadata": {},
   "outputs": [
    {
     "data": {
      "text/html": [
       "<table>\n",
       "<thead><tr><th scope=col>name</th><th scope=col>age</th><th scope=col>debt</th></tr></thead>\n",
       "<tbody>\n",
       "\t<tr><td>Tom  </td><td>43   </td><td> 0.00</td></tr>\n",
       "\t<tr><td>Sally</td><td>28   </td><td>25.50</td></tr>\n",
       "\t<tr><td>Sue  </td><td>35   </td><td>36.00</td></tr>\n",
       "\t<tr><td>Mark </td><td>33   </td><td>48.19</td></tr>\n",
       "</tbody>\n",
       "</table>\n"
      ],
      "text/latex": [
       "\\begin{tabular}{r|lll}\n",
       " name & age & debt\\\\\n",
       "\\hline\n",
       "\t Tom   & 43    &  0.00\\\\\n",
       "\t Sally & 28    & 25.50\\\\\n",
       "\t Sue   & 35    & 36.00\\\\\n",
       "\t Mark  & 33    & 48.19\\\\\n",
       "\\end{tabular}\n"
      ],
      "text/markdown": [
       "\n",
       "name | age | debt | \n",
       "|---|---|---|---|\n",
       "| Tom   | 43    |  0.00 | \n",
       "| Sally | 28    | 25.50 | \n",
       "| Sue   | 35    | 36.00 | \n",
       "| Mark  | 33    | 48.19 | \n",
       "\n",
       "\n"
      ],
      "text/plain": [
       "  name  age debt \n",
       "1 Tom   43   0.00\n",
       "2 Sally 28  25.50\n",
       "3 Sue   35  36.00\n",
       "4 Mark  33  48.19"
      ]
     },
     "metadata": {},
     "output_type": "display_data"
    }
   ],
   "source": [
    "debt <- c(0,25.50,36,48.19)\n",
    "custData <- cbind(custData,debt)\n",
    "custData"
   ]
  },
  {
   "cell_type": "code",
   "execution_count": 15,
   "metadata": {},
   "outputs": [
    {
     "data": {
      "text/html": [
       "<ol class=list-inline>\n",
       "\t<li>'Sally'</li>\n",
       "\t<li>'Sue'</li>\n",
       "\t<li>'Mark'</li>\n",
       "</ol>\n"
      ],
      "text/latex": [
       "\\begin{enumerate*}\n",
       "\\item 'Sally'\n",
       "\\item 'Sue'\n",
       "\\item 'Mark'\n",
       "\\end{enumerate*}\n"
      ],
      "text/markdown": [
       "1. 'Sally'\n",
       "2. 'Sue'\n",
       "3. 'Mark'\n",
       "\n",
       "\n"
      ],
      "text/plain": [
       "[1] \"Sally\" \"Sue\"   \"Mark\" "
      ]
     },
     "metadata": {},
     "output_type": "display_data"
    }
   ],
   "source": [
    "owesMoney <- custData$name[custData$debt>0]\n",
    "owesMoney"
   ]
  },
  {
   "cell_type": "code",
   "execution_count": null,
   "metadata": {},
   "outputs": [],
   "source": []
  }
 ],
 "metadata": {
  "kernelspec": {
   "display_name": "R",
   "language": "R",
   "name": "ir"
  },
  "language_info": {
   "codemirror_mode": "r",
   "file_extension": ".r",
   "mimetype": "text/x-r-source",
   "name": "R",
   "pygments_lexer": "r",
   "version": "3.3.3"
  }
 },
 "nbformat": 4,
 "nbformat_minor": 2
}

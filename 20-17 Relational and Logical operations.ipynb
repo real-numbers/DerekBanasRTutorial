{
 "cells": [
  {
   "cell_type": "markdown",
   "metadata": {},
   "source": [
    "### Relational operators"
   ]
  },
  {
   "cell_type": "code",
   "execution_count": 1,
   "metadata": {},
   "outputs": [
    {
     "data": {
      "text/html": [
       "'4 == 5 : FALSE'"
      ],
      "text/latex": [
       "'4 == 5 : FALSE'"
      ],
      "text/markdown": [
       "'4 == 5 : FALSE'"
      ],
      "text/plain": [
       "[1] \"4 == 5 : FALSE\""
      ]
     },
     "metadata": {},
     "output_type": "display_data"
    },
    {
     "data": {
      "text/html": [
       "'4 != 5 : TRUE'"
      ],
      "text/latex": [
       "'4 != 5 : TRUE'"
      ],
      "text/markdown": [
       "'4 != 5 : TRUE'"
      ],
      "text/plain": [
       "[1] \"4 != 5 : TRUE\""
      ]
     },
     "metadata": {},
     "output_type": "display_data"
    },
    {
     "data": {
      "text/html": [
       "<span style=white-space:pre-wrap>'4  &gt; 5 : FALSE'</span>"
      ],
      "text/latex": [
       "'4  > 5 : FALSE'"
      ],
      "text/markdown": [
       "<span style=white-space:pre-wrap>'4  &gt; 5 : FALSE'</span>"
      ],
      "text/plain": [
       "[1] \"4  > 5 : FALSE\""
      ]
     },
     "metadata": {},
     "output_type": "display_data"
    },
    {
     "data": {
      "text/html": [
       "<span style=white-space:pre-wrap>'4  &lt; 5 : TRUE'</span>"
      ],
      "text/latex": [
       "'4  < 5 : TRUE'"
      ],
      "text/markdown": [
       "<span style=white-space:pre-wrap>'4  &lt; 5 : TRUE'</span>"
      ],
      "text/plain": [
       "[1] \"4  < 5 : TRUE\""
      ]
     },
     "metadata": {},
     "output_type": "display_data"
    },
    {
     "data": {
      "text/html": [
       "'4 &gt;= 5 : FALSE'"
      ],
      "text/latex": [
       "'4 >= 5 : FALSE'"
      ],
      "text/markdown": [
       "'4 &gt;= 5 : FALSE'"
      ],
      "text/plain": [
       "[1] \"4 >= 5 : FALSE\""
      ]
     },
     "metadata": {},
     "output_type": "display_data"
    },
    {
     "data": {
      "text/html": [
       "'4 &lt;= 5 : TRUE'"
      ],
      "text/latex": [
       "'4 <= 5 : TRUE'"
      ],
      "text/markdown": [
       "'4 &lt;= 5 : TRUE'"
      ],
      "text/plain": [
       "[1] \"4 <= 5 : TRUE\""
      ]
     },
     "metadata": {},
     "output_type": "display_data"
    }
   ],
   "source": [
    "sprintf(\"4 == 5 : %s\", 4 == 5)\n",
    "sprintf(\"4 != 5 : %s\", 4 != 5)\n",
    "sprintf(\"4  > 5 : %s\", 4 > 5)\n",
    "sprintf(\"4  < 5 : %s\", 4 < 5)\n",
    "sprintf(\"4 >= 5 : %s\", 4 >= 5)\n",
    "sprintf(\"4 <= 5 : %s\", 4 <= 5)"
   ]
  },
  {
   "cell_type": "code",
   "execution_count": 2,
   "metadata": {},
   "outputs": [
    {
     "data": {
      "text/html": [
       "<ol class=list-inline>\n",
       "\t<li>2</li>\n",
       "\t<li>4</li>\n",
       "\t<li>6</li>\n",
       "\t<li>8</li>\n",
       "\t<li>10</li>\n",
       "\t<li>12</li>\n",
       "\t<li>14</li>\n",
       "\t<li>16</li>\n",
       "\t<li>18</li>\n",
       "\t<li>20</li>\n",
       "</ol>\n"
      ],
      "text/latex": [
       "\\begin{enumerate*}\n",
       "\\item 2\n",
       "\\item 4\n",
       "\\item 6\n",
       "\\item 8\n",
       "\\item 10\n",
       "\\item 12\n",
       "\\item 14\n",
       "\\item 16\n",
       "\\item 18\n",
       "\\item 20\n",
       "\\end{enumerate*}\n"
      ],
      "text/markdown": [
       "1. 2\n",
       "2. 4\n",
       "3. 6\n",
       "4. 8\n",
       "5. 10\n",
       "6. 12\n",
       "7. 14\n",
       "8. 16\n",
       "9. 18\n",
       "10. 20\n",
       "\n",
       "\n"
      ],
      "text/plain": [
       " [1]  2  4  6  8 10 12 14 16 18 20"
      ]
     },
     "metadata": {},
     "output_type": "display_data"
    }
   ],
   "source": [
    "oneToTwenty <- c(1:20)\n",
    "isEven <- oneToTwenty %% 2 == 0\n",
    "justEvens <- oneToTwenty[isEven]\n",
    "justEvens"
   ]
  },
  {
   "cell_type": "markdown",
   "metadata": {},
   "source": [
    "### Logical operators"
   ]
  },
  {
   "cell_type": "code",
   "execution_count": 4,
   "metadata": {},
   "outputs": [
    {
     "name": "stdout",
     "output_type": "stream",
     "text": [
      "TRUE && FALSE =  FALSE \n",
      "TRUE || FALSE =  TRUE \n",
      "!TRUE =  FALSE \n"
     ]
    }
   ],
   "source": [
    "cat(\"TRUE && FALSE = \", TRUE && F, \"\\n\")\n",
    "cat(\"TRUE || FALSE = \", T || F, \"\\n\")\n",
    "cat(\"!TRUE = \", !T , \"\\n\")"
   ]
  },
  {
   "cell_type": "markdown",
   "metadata": {},
   "source": [
    "### Decision making"
   ]
  },
  {
   "cell_type": "code",
   "execution_count": 5,
   "metadata": {},
   "outputs": [
    {
     "name": "stdout",
     "output_type": "stream",
     "text": [
      "[1] \"Drive and vote\"\n"
     ]
    }
   ],
   "source": [
    "age <- 22\n",
    "\n",
    "if(age >= 18){\n",
    "    print(\"Drive and vote\")\n",
    "}else if(age >=16){\n",
    "    print(\"Drive\")\n",
    "} else {\n",
    "    print(\"Wait\")\n",
    "}\n"
   ]
  },
  {
   "cell_type": "code",
   "execution_count": 6,
   "metadata": {},
   "outputs": [
    {
     "name": "stdout",
     "output_type": "stream",
     "text": [
      "[1] \"Excellent\"\n"
     ]
    }
   ],
   "source": [
    "grade <- \"A\"\n",
    "\n",
    "switch(grade,\n",
    "      \"A\" = print(\"Excellent\"),\n",
    "      \"B\" = print(\"Good\"),\n",
    "      \"C\" = print(\"Average\"),\n",
    "      \"D\" = print(\"Needs Improvement\"),\n",
    "      print(\"uh oh not good\"))"
   ]
  },
  {
   "cell_type": "code",
   "execution_count": null,
   "metadata": {},
   "outputs": [],
   "source": []
  }
 ],
 "metadata": {
  "kernelspec": {
   "display_name": "R",
   "language": "R",
   "name": "ir"
  },
  "language_info": {
   "codemirror_mode": "r",
   "file_extension": ".r",
   "mimetype": "text/x-r-source",
   "name": "R",
   "pygments_lexer": "r",
   "version": "3.3.3"
  }
 },
 "nbformat": 4,
 "nbformat_minor": 2
}

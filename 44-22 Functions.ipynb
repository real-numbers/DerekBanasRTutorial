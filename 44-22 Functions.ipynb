{
 "cells": [
  {
   "cell_type": "code",
   "execution_count": 5,
   "metadata": {},
   "outputs": [
    {
     "data": {
      "text/html": [
       "'5 + 6 = 11'"
      ],
      "text/latex": [
       "'5 + 6 = 11'"
      ],
      "text/markdown": [
       "'5 + 6 = 11'"
      ],
      "text/plain": [
       "[1] \"5 + 6 = 11\""
      ]
     },
     "metadata": {},
     "output_type": "display_data"
    }
   ],
   "source": [
    "getSum <- function(num1,num2){\n",
    "    return(num1 + num2)\n",
    "}\n",
    "sprintf(\"5 + 6 = %d\", getSum(5,6))"
   ]
  },
  {
   "cell_type": "code",
   "execution_count": 7,
   "metadata": {},
   "outputs": [
    {
     "data": {
      "text/html": [
       "'5 - 6 = -1'"
      ],
      "text/latex": [
       "'5 - 6 = -1'"
      ],
      "text/markdown": [
       "'5 - 6 = -1'"
      ],
      "text/plain": [
       "[1] \"5 - 6 = -1\""
      ]
     },
     "metadata": {},
     "output_type": "display_data"
    }
   ],
   "source": [
    "getDiff <- function(num1=1,num2=1){\n",
    "    num1 - num2\n",
    "}\n",
    "sprintf(\"5 - 6 = %d\", getDiff(5,6))"
   ]
  },
  {
   "cell_type": "code",
   "execution_count": 18,
   "metadata": {},
   "outputs": [
    {
     "data": {
      "text/html": [
       "<ol>\n",
       "\t<li><ol class=list-inline>\n",
       "\t<li>'Here'</li>\n",
       "\t<li>'is'</li>\n",
       "\t<li>'a'</li>\n",
       "\t<li>'string'</li>\n",
       "\t<li>'split'</li>\n",
       "\t<li>'into'</li>\n",
       "\t<li>'a'</li>\n",
       "\t<li>'list'</li>\n",
       "</ol>\n",
       "</li>\n",
       "</ol>\n"
      ],
      "text/latex": [
       "\\begin{enumerate}\n",
       "\\item \\begin{enumerate*}\n",
       "\\item 'Here'\n",
       "\\item 'is'\n",
       "\\item 'a'\n",
       "\\item 'string'\n",
       "\\item 'split'\n",
       "\\item 'into'\n",
       "\\item 'a'\n",
       "\\item 'list'\n",
       "\\end{enumerate*}\n",
       "\n",
       "\\end{enumerate}\n"
      ],
      "text/markdown": [
       "1. 1. 'Here'\n",
       "2. 'is'\n",
       "3. 'a'\n",
       "4. 'string'\n",
       "5. 'split'\n",
       "6. 'into'\n",
       "7. 'a'\n",
       "8. 'list'\n",
       "\n",
       "\n",
       "\n",
       "\n",
       "\n"
      ],
      "text/plain": [
       "[[1]]\n",
       "[1] \"Here\"   \"is\"     \"a\"      \"string\" \"split\"  \"into\"   \"a\"      \"list\"  \n"
      ]
     },
     "metadata": {},
     "output_type": "display_data"
    },
    {
     "data": {
      "text/html": [
       "<ol>\n",
       "\t<li><ol class=list-inline>\n",
       "\t<li>'1'</li>\n",
       "\t<li>'2'</li>\n",
       "\t<li>'3'</li>\n",
       "\t<li>'4'</li>\n",
       "</ol>\n",
       "</li>\n",
       "</ol>\n"
      ],
      "text/latex": [
       "\\begin{enumerate}\n",
       "\\item \\begin{enumerate*}\n",
       "\\item '1'\n",
       "\\item '2'\n",
       "\\item '3'\n",
       "\\item '4'\n",
       "\\end{enumerate*}\n",
       "\n",
       "\\end{enumerate}\n"
      ],
      "text/markdown": [
       "1. 1. '1'\n",
       "2. '2'\n",
       "3. '3'\n",
       "4. '4'\n",
       "\n",
       "\n",
       "\n",
       "\n",
       "\n"
      ],
      "text/plain": [
       "[[1]]\n",
       "[1] \"1\" \"2\" \"3\" \"4\"\n"
      ]
     },
     "metadata": {},
     "output_type": "display_data"
    },
    {
     "data": {
      "text/html": [
       "'1'"
      ],
      "text/latex": [
       "'1'"
      ],
      "text/markdown": [
       "'1'"
      ],
      "text/plain": [
       "[1] \"1\""
      ]
     },
     "metadata": {},
     "output_type": "display_data"
    }
   ],
   "source": [
    "makeList = function(aString){\n",
    "    return(strsplit(aString,\" \"))\n",
    "}\n",
    "makeList(\"Here is a string split into a list\")\n",
    "makeList(\"1 2 3 4\")[1]\n",
    "makeList(\"1 2 3 4\")[[1]][1]"
   ]
  },
  {
   "cell_type": "code",
   "execution_count": 12,
   "metadata": {},
   "outputs": [
    {
     "data": {
      "text/html": [
       "1"
      ],
      "text/latex": [
       "1"
      ],
      "text/markdown": [
       "1"
      ],
      "text/plain": [
       "[1] 1"
      ]
     },
     "metadata": {},
     "output_type": "display_data"
    }
   ],
   "source": [
    "length(makeList(\"another list of words\"))"
   ]
  },
  {
   "cell_type": "code",
   "execution_count": null,
   "metadata": {},
   "outputs": [],
   "source": []
  }
 ],
 "metadata": {
  "kernelspec": {
   "display_name": "R",
   "language": "R",
   "name": "ir"
  },
  "language_info": {
   "codemirror_mode": "r",
   "file_extension": ".r",
   "mimetype": "text/x-r-source",
   "name": "R",
   "pygments_lexer": "r",
   "version": "3.3.3"
  }
 },
 "nbformat": 4,
 "nbformat_minor": 2
}
